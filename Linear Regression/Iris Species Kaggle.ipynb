{
 "cells": [
  {
   "cell_type": "code",
   "execution_count": 1,
   "metadata": {
    "collapsed": true
   },
   "outputs": [],
   "source": [
    "import matplotlib.pyplot as plt\n",
    "import numpy as np\n",
    "import pandas as pd\n",
    "from sklearn.tree import DecisionTreeClassifier\n",
    "from sklearn import datasets\n",
    "%matplotlib inline"
   ]
  },
  {
   "cell_type": "code",
   "execution_count": 2,
   "metadata": {},
   "outputs": [],
   "source": [
    "iris_dataset = datasets.load_iris()"
   ]
  },
  {
   "cell_type": "code",
   "execution_count": 3,
   "metadata": {},
   "outputs": [
    {
     "name": "stdout",
     "output_type": "stream",
     "text": [
      "{'setosa': 0, 'versicolor': 1, 'virginica': 2}\n",
      "['sepal length (cm)', 'sepal width (cm)', 'petal length (cm)', 'petal width (cm)']\n"
     ]
    }
   ],
   "source": [
    "X = iris_dataset.data\n",
    "y = iris_dataset.target\n",
    "target_names = iris_dataset.target_names\n",
    "features = iris_dataset.feature_names\n",
    "target_map = {'setosa':0, 'versicolor':1, 'virginica':2}\n",
    "print(target_map)\n",
    "print(features)"
   ]
  },
  {
   "cell_type": "code",
   "execution_count": 4,
   "metadata": {},
   "outputs": [
    {
     "name": "stdout",
     "output_type": "stream",
     "text": [
      "<class 'numpy.ndarray'> <class 'numpy.ndarray'>\n",
      "(150,) (150,)\n"
     ]
    }
   ],
   "source": [
    "print(type(X), type(y))\n",
    "print(X[:,1].shape, y[:].shape)"
   ]
  },
  {
   "cell_type": "code",
   "execution_count": 10,
   "metadata": {
    "collapsed": true
   },
   "outputs": [],
   "source": [
    "number_of_samples = int(len(X)*0.7)\n",
    "random_indices = np.random.permutation(int(len(X)))\n",
    "X_train = X[random_indices[:number_of_samples]]\n",
    "y_train = y[random_indices[:number_of_samples]]\n",
    "\n",
    "number_of_val_samples = int(len(X)*0.15)\n",
    "X_val = X[random_indices[number_of_samples:number_of_samples+number_of_val_samples]]\n",
    "y_val = y[random_indices[number_of_samples:number_of_samples+number_of_val_samples]]\n",
    "\n",
    "number_of_test_samples = int(len(X)*0.15)\n",
    "X_test = X[random_indices[-number_of_test_samples:]]\n",
    "y_test = y[random_indices[-number_of_test_samples:]]"
   ]
  },
  {
   "cell_type": "code",
   "execution_count": 17,
   "metadata": {},
   "outputs": [
    {
     "data": {
      "text/plain": [
       "DecisionTreeClassifier(class_weight=None, criterion='gini', max_depth=None,\n",
       "            max_features=None, max_leaf_nodes=None,\n",
       "            min_impurity_split=1e-07, min_samples_leaf=1,\n",
       "            min_samples_split=2, min_weight_fraction_leaf=0.0,\n",
       "            presort=False, random_state=None, splitter='best')"
      ]
     },
     "execution_count": 17,
     "metadata": {},
     "output_type": "execute_result"
    }
   ],
   "source": [
    "model = DecisionTreeClassifier(criterion = \"gini\")\n",
    "model.fit(X_train, y_train)"
   ]
  },
  {
   "cell_type": "code",
   "execution_count": 18,
   "metadata": {},
   "outputs": [
    {
     "name": "stdout",
     "output_type": "stream",
     "text": [
      "Missclassification in validation percentage:  4.545454545454546\n"
     ]
    }
   ],
   "source": [
    "val_set_predictions = [model.predict(X_val[i].reshape((1, len(X_val[i]))))[0] for i in range(X_val.shape[0])]\n",
    "val_missclassification = 0\n",
    "for i in range(number_of_val_samples):\n",
    "    if val_set_predictions[i] != y_val[i]:\n",
    "        val_missclassification += 1\n",
    "print(\"Missclassification in validation percentage: \", val_missclassification/len(val_set_predictions)*100)"
   ]
  },
  {
   "cell_type": "code",
   "execution_count": 19,
   "metadata": {},
   "outputs": [
    {
     "name": "stdout",
     "output_type": "stream",
     "text": [
      "Missclassification in test percentage:  4.545454545454546\n"
     ]
    }
   ],
   "source": [
    "test_set_predictions = [model.predict(X_test[i].reshape((1, len(X_test[i]))))[0] for i in range(X_test.shape[0])]\n",
    "test_missclassification = 0\n",
    "for i in range(number_of_test_samples):\n",
    "    if test_set_predictions[i] != y_test[i]:\n",
    "        test_missclassification += 1\n",
    "print(\"Missclassification in test percentage: \", test_missclassification/number_of_test_samples*100)"
   ]
  },
  {
   "cell_type": "code",
   "execution_count": 39,
   "metadata": {},
   "outputs": [
    {
     "name": "stdout",
     "output_type": "stream",
     "text": [
      "Missclassification in training percentage:  3.8095238095238098\n",
      "Missclassification in validation percentage:  9.090909090909092\n",
      "Missclassification in test percentage:  4.545454545454546\n"
     ]
    }
   ],
   "source": [
    "train_error = []\n",
    "val_error = []\n",
    "test_error = []\n",
    "\n",
    "\n",
    "model = DecisionTreeClassifier(criterion=\"entropy\", max_depth=4, min_samples_split=4, min_samples_leaf=5, max_leaf_nodes= j)\n",
    "model.fit(X_train, y_train)\n",
    "\n",
    "train_set_predictions = [model.predict(X_train[i].reshape((1, len(X_train[i]))))[0] for i in range(X_train.shape[0])]\n",
    "train_missclassification = 0\n",
    "for i in range(number_of_samples):\n",
    "    if train_set_predictions[i] != y_train[i]:\n",
    "        train_missclassification += 1\n",
    "print(\"Missclassification in training percentage: \", train_missclassification/number_of_samples*100)\n",
    "\n",
    "val_set_predictions = [model.predict(X_val[i].reshape((1, len(X_val[i]))))[0] for i in range(X_val.shape[0])]\n",
    "val_missclassification = 0\n",
    "for i in range(number_of_val_samples):\n",
    "    if val_set_predictions[i] != y_val[i]:\n",
    "        val_missclassification += 1\n",
    "print(\"Missclassification in validation percentage: \", val_missclassification/len(val_set_predictions)*100)\n",
    "\n",
    "test_set_predictions = [model.predict(X_test[i].reshape((1, len(X_test[i]))))[0] for i in range(X_test.shape[0])]\n",
    "test_missclassification = 0\n",
    "for i in range(number_of_test_samples):\n",
    "    if test_set_predictions[i] != y_test[i]:\n",
    "        test_missclassification += 1\n",
    "print(\"Missclassification in test percentage: \", test_missclassification/number_of_test_samples*100)"
   ]
  }
 ],
 "metadata": {
  "kernelspec": {
   "display_name": "Python 3",
   "language": "python",
   "name": "python3"
  },
  "language_info": {
   "codemirror_mode": {
    "name": "ipython",
    "version": 3
   },
   "file_extension": ".py",
   "mimetype": "text/x-python",
   "name": "python",
   "nbconvert_exporter": "python",
   "pygments_lexer": "ipython3",
   "version": "3.6.1"
  }
 },
 "nbformat": 4,
 "nbformat_minor": 2
}
